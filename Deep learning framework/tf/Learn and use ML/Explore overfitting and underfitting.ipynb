{
 "cells": [
  {
   "cell_type": "code",
   "execution_count": 2,
   "metadata": {
    "collapsed": true
   },
   "outputs": [],
   "source": [
    "import tensorflow as tf\n",
    "from tensorflow import keras\n",
    "import numpy as np\n",
    "import matplotlib.pyplot as plt"
   ]
  },
  {
   "cell_type": "code",
   "execution_count": 6,
   "metadata": {},
   "outputs": [],
   "source": [
    "Num_words = 10000\n",
    "(train_data, train_lables), (test_data, test_labels) = keras.datasets.imdb.load_data(num_words=Num_words)\n",
    "# print(train_data)\n",
    "\n",
    "def multi_hot_sequence(sequences, dimension):\n",
    "    # Create an all-zero matrix of shape (len(sequences),dimension)\n",
    "    results = np.zeros((len(sequences), dimension))\n",
    "    for i, word_indices in enumerate(sequences):\n",
    "        results[i, word_indices] = 1\n",
    "        # print(word_indices)\n",
    "    return results\n",
    "\n",
    "train_data = multi_hot_sequence(train_data,dimension=Num_words)\n",
    "# print(train_data)\n",
    "test_data = multi_hot_sequence(test_data,dimension=Num_words)"
   ]
  },
  {
   "cell_type": "code",
   "execution_count": 8,
   "metadata": {},
   "outputs": [
    {
     "data": {
      "image/png": "[encoded data removed]",
      "text/plain": [
       "<matplotlib.figure.Figure at 0x1dbbf240>"
      ]
     },
     "metadata": {},
     "output_type": "display_data"
    }
   ],
   "source": [
    "plt.plot(train_data[0])\n",
    "plt.show()"
   ]
  },
  {
   "cell_type": "code",
   "execution_count": 10,
   "metadata": {},
   "outputs": [
    {
     "name": "stdout",
     "output_type": "stream",
     "text": [
      "_________________________________________________________________\nLayer (type)                 Output Shape              Param #   \n=================================================================\ndense_1 (Dense)              (None, 16)                160016    \n_________________________________________________________________\ndense_2 (Dense)              (None, 16)                272       \n_________________________________________________________________\ndense_3 (Dense)              (None, 1)                 17        \n=================================================================\nTotal params: 160,305\nTrainable params: 160,305\nNon-trainable params: 0\n_________________________________________________________________\n"
     ]
    }
   ],
   "source": [
    "# create a baseline model\n",
    "baseline_model = keras.Sequential([\n",
    "    keras.layers.Dense(16, activation=tf.nn.relu, input_shape=(Num_words,)),\n",
    "    keras.layers.Dense(16, activation=tf.nn.relu),\n",
    "    keras.layers.Dense(1, activation=tf.nn.sigmoid)\n",
    "])\n",
    "\n",
    "baseline_model.compile(optimizer='adam', loss='binary_crossentropy',\n",
    "                       metrics=['accuracy', 'binary_crossentropy'])\n",
    "\n",
    "baseline_model.summary()"
   ]
  },
  {
   "cell_type": "code",
   "execution_count": 17,
   "metadata": {},
   "outputs": [
    {
     "name": "stdout",
     "output_type": "stream",
     "text": [
      "Train on 25000 samples, validate on 25000 samples\nEpoch 1/20\n"
     ]
    },
    {
     "name": "stdout",
     "output_type": "stream",
     "text": [
      " - 4s - loss: 0.0026 - acc: 1.0000 - binary_crossentropy: 0.0026 - val_loss: 0.8561 - val_acc: 0.8530 - val_binary_crossentropy: 0.8561\n"
     ]
    },
    {
     "name": "stdout",
     "output_type": "stream",
     "text": [
      "Epoch 2/20\n"
     ]
    },
    {
     "name": "stdout",
     "output_type": "stream",
     "text": [
      " - 4s - loss: 0.0022 - acc: 1.0000 - binary_crossentropy: 0.0022 - val_loss: 0.8710 - val_acc: 0.8534 - val_binary_crossentropy: 0.8710\n"
     ]
    },
    {
     "name": "stdout",
     "output_type": "stream",
     "text": [
      "Epoch 3/20\n"
     ]
    },
    {
     "name": "stdout",
     "output_type": "stream",
     "text": [
      " - 4s - loss: 0.0019 - acc: 1.0000 - binary_crossentropy: 0.0019 - val_loss: 0.8916 - val_acc: 0.8522 - val_binary_crossentropy: 0.8916\n"
     ]
    },
    {
     "name": "stdout",
     "output_type": "stream",
     "text": [
      "Epoch 4/20\n"
     ]
    },
    {
     "name": "stdout",
     "output_type": "stream",
     "text": [
      " - 4s - loss: 0.0017 - acc: 1.0000 - binary_crossentropy: 0.0017 - val_loss: 0.9044 - val_acc: 0.8525 - val_binary_crossentropy: 0.9044\n"
     ]
    },
    {
     "name": "stdout",
     "output_type": "stream",
     "text": [
      "Epoch 5/20\n"
     ]
    },
    {
     "name": "stdout",
     "output_type": "stream",
     "text": [
      " - 4s - loss: 0.0015 - acc: 1.0000 - binary_crossentropy: 0.0015 - val_loss: 0.9165 - val_acc: 0.8531 - val_binary_crossentropy: 0.9165\n"
     ]
    },
    {
     "name": "stdout",
     "output_type": "stream",
     "text": [
      "Epoch 6/20\n"
     ]
    },
    {
     "name": "stdout",
     "output_type": "stream",
     "text": [
      " - 4s - loss: 0.0013 - acc: 1.0000 - binary_crossentropy: 0.0013 - val_loss: 0.9304 - val_acc: 0.8526 - val_binary_crossentropy: 0.9304\n"
     ]
    },
    {
     "name": "stdout",
     "output_type": "stream",
     "text": [
      "Epoch 7/20\n"
     ]
    },
    {
     "name": "stdout",
     "output_type": "stream",
     "text": [
      " - 4s - loss: 0.0012 - acc: 1.0000 - binary_crossentropy: 0.0012 - val_loss: 0.9444 - val_acc: 0.8525 - val_binary_crossentropy: 0.9444\n"
     ]
    },
    {
     "name": "stdout",
     "output_type": "stream",
     "text": [
      "Epoch 8/20\n"
     ]
    },
    {
     "name": "stdout",
     "output_type": "stream",
     "text": [
      " - 4s - loss: 0.0011 - acc: 1.0000 - binary_crossentropy: 0.0011 - val_loss: 0.9546 - val_acc: 0.8522 - val_binary_crossentropy: 0.9546\n"
     ]
    },
    {
     "name": "stdout",
     "output_type": "stream",
     "text": [
      "Epoch 9/20\n"
     ]
    },
    {
     "name": "stdout",
     "output_type": "stream",
     "text": [
      " - 4s - loss: 9.8661e-04 - acc: 1.0000 - binary_crossentropy: 9.8661e-04 - val_loss: 0.9678 - val_acc: 0.8527 - val_binary_crossentropy: 0.9678\n"
     ]
    },
    {
     "name": "stdout",
     "output_type": "stream",
     "text": [
      "Epoch 10/20\n"
     ]
    },
    {
     "name": "stdout",
     "output_type": "stream",
     "text": [
      " - 4s - loss: 8.9668e-04 - acc: 1.0000 - binary_crossentropy: 8.9668e-04 - val_loss: 0.9795 - val_acc: 0.8524 - val_binary_crossentropy: 0.9795\n"
     ]
    },
    {
     "name": "stdout",
     "output_type": "stream",
     "text": [
      "Epoch 11/20\n"
     ]
    },
    {
     "name": "stdout",
     "output_type": "stream",
     "text": [
      " - 4s - loss: 8.1798e-04 - acc: 1.0000 - binary_crossentropy: 8.1798e-04 - val_loss: 0.9904 - val_acc: 0.8519 - val_binary_crossentropy: 0.9904\n"
     ]
    },
    {
     "name": "stdout",
     "output_type": "stream",
     "text": [
      "Epoch 12/20\n"
     ]
    },
    {
     "name": "stdout",
     "output_type": "stream",
     "text": [
      " - 4s - loss: 7.5413e-04 - acc: 1.0000 - binary_crossentropy: 7.5413e-04 - val_loss: 0.9999 - val_acc: 0.8520 - val_binary_crossentropy: 0.9999\n"
     ]
    },
    {
     "name": "stdout",
     "output_type": "stream",
     "text": [
      "Epoch 13/20\n"
     ]
    },
    {
     "name": "stdout",
     "output_type": "stream",
     "text": [
      " - 4s - loss: 6.9033e-04 - acc: 1.0000 - binary_crossentropy: 6.9033e-04 - val_loss: 1.0103 - val_acc: 0.8518 - val_binary_crossentropy: 1.0103\n"
     ]
    },
    {
     "name": "stdout",
     "output_type": "stream",
     "text": [
      "Epoch 14/20\n"
     ]
    },
    {
     "name": "stdout",
     "output_type": "stream",
     "text": [
      " - 4s - loss: 6.3733e-04 - acc: 1.0000 - binary_crossentropy: 6.3733e-04 - val_loss: 1.0192 - val_acc: 0.8516 - val_binary_crossentropy: 1.0192\n"
     ]
    },
    {
     "name": "stdout",
     "output_type": "stream",
     "text": [
      "Epoch 15/20\n"
     ]
    },
    {
     "name": "stdout",
     "output_type": "stream",
     "text": [
      " - 4s - loss: 5.9022e-04 - acc: 1.0000 - binary_crossentropy: 5.9022e-04 - val_loss: 1.0276 - val_acc: 0.8521 - val_binary_crossentropy: 1.0276\n"
     ]
    },
    {
     "name": "stdout",
     "output_type": "stream",
     "text": [
      "Epoch 16/20\n"
     ]
    },
    {
     "name": "stdout",
     "output_type": "stream",
     "text": [
      " - 4s - loss: 5.4584e-04 - acc: 1.0000 - binary_crossentropy: 5.4584e-04 - val_loss: 1.0360 - val_acc: 0.8517 - val_binary_crossentropy: 1.0360\n"
     ]
    },
    {
     "name": "stdout",
     "output_type": "stream",
     "text": [
      "Epoch 17/20\n"
     ]
    },
    {
     "name": "stdout",
     "output_type": "stream",
     "text": [
      " - 5s - loss: 5.0783e-04 - acc: 1.0000 - binary_crossentropy: 5.0783e-04 - val_loss: 1.0448 - val_acc: 0.8518 - val_binary_crossentropy: 1.0448\n"
     ]
    },
    {
     "name": "stdout",
     "output_type": "stream",
     "text": [
      "Epoch 18/20\n"
     ]
    },
    {
     "name": "stdout",
     "output_type": "stream",
     "text": [
      " - 4s - loss: 4.7268e-04 - acc: 1.0000 - binary_crossentropy: 4.7268e-04 - val_loss: 1.0530 - val_acc: 0.8518 - val_binary_crossentropy: 1.0530\n"
     ]
    },
    {
     "name": "stdout",
     "output_type": "stream",
     "text": [
      "Epoch 19/20\n"
     ]
    },
    {
     "name": "stdout",
     "output_type": "stream",
     "text": [
      " - 4s - loss: 4.4120e-04 - acc: 1.0000 - binary_crossentropy: 4.4120e-04 - val_loss: 1.0603 - val_acc: 0.8519 - val_binary_crossentropy: 1.0603\n"
     ]
    },
    {
     "name": "stdout",
     "output_type": "stream",
     "text": [
      "Epoch 20/20\n"
     ]
    },
    {
     "name": "stdout",
     "output_type": "stream",
     "text": [
      " - 4s - loss: 4.1186e-04 - acc: 1.0000 - binary_crossentropy: 4.1186e-04 - val_loss: 1.0683 - val_acc: 0.8518 - val_binary_crossentropy: 1.0683\n"
     ]
    }
   ],
   "source": [
    "baseline_history = baseline_model.fit(train_data, train_lables, epochs=20, batch_size=512,\n",
    "                                      validation_data=(test_data, test_labels), verbose=2)"
   ]
  },
  {
   "cell_type": "code",
   "execution_count": 47,
   "metadata": {},
   "outputs": [
    {
     "name": "stdout",
     "output_type": "stream",
     "text": [
      "_________________________________________________________________\nLayer (type)                 Output Shape              Param #   \n=================================================================\ndense_14 (Dense)             (None, 16)                160016    \n_________________________________________________________________\ndense_15 (Dense)             (None, 16)                272       \n_________________________________________________________________\ndense_16 (Dense)             (None, 1)                 17        \n=================================================================\nTotal params: 160,305\nTrainable params: 160,305\nNon-trainable params: 0\n_________________________________________________________________\n"
     ]
    }
   ],
   "source": [
    "smaller_model = keras.Sequential([\n",
    "    keras.layers.Dense(16, activation=tf.nn.relu, input_shape=(Num_words,)),\n",
    "    keras.layers.Dense(16, activation=tf.nn.relu),\n",
    "    keras.layers.Dense(1, activation=tf.nn.sigmoid)])\n",
    "\n",
    "smaller_model.compile(optimizer='adam', loss='binary_crossentropy', metrics=['accuracy', 'binary_crossentropy'])\n",
    "\n",
    "smaller_model.summary()"
   ]
  },
  {
   "cell_type": "code",
   "execution_count": 51,
   "metadata": {},
   "outputs": [
    {
     "name": "stdout",
     "output_type": "stream",
     "text": [
      "Train on 25000 samples, validate on 25000 samples\nEpoch 1/20\n"
     ]
    },
    {
     "name": "stdout",
     "output_type": "stream",
     "text": [
      " - 4s - loss: 0.0043 - acc: 0.9999 - binary_crossentropy: 0.0043 - val_loss: 0.9258 - val_acc: 0.8474 - val_binary_crossentropy: 0.9258\n"
     ]
    },
    {
     "name": "stdout",
     "output_type": "stream",
     "text": [
      "Epoch 2/20\n"
     ]
    },
    {
     "name": "stdout",
     "output_type": "stream",
     "text": [
      " - 4s - loss: 0.0036 - acc: 1.0000 - binary_crossentropy: 0.0036 - val_loss: 0.9425 - val_acc: 0.8476 - val_binary_crossentropy: 0.9425\n"
     ]
    },
    {
     "name": "stdout",
     "output_type": "stream",
     "text": [
      "Epoch 3/20\n"
     ]
    },
    {
     "name": "stdout",
     "output_type": "stream",
     "text": [
      " - 4s - loss: 0.0031 - acc: 1.0000 - binary_crossentropy: 0.0031 - val_loss: 0.9715 - val_acc: 0.8469 - val_binary_crossentropy: 0.9715\n"
     ]
    },
    {
     "name": "stdout",
     "output_type": "stream",
     "text": [
      "Epoch 4/20\n"
     ]
    },
    {
     "name": "stdout",
     "output_type": "stream",
     "text": [
      " - 4s - loss: 0.0027 - acc: 1.0000 - binary_crossentropy: 0.0027 - val_loss: 0.9931 - val_acc: 0.8466 - val_binary_crossentropy: 0.9931\n"
     ]
    },
    {
     "name": "stdout",
     "output_type": "stream",
     "text": [
      "Epoch 5/20\n"
     ]
    },
    {
     "name": "stdout",
     "output_type": "stream",
     "text": [
      " - 4s - loss: 0.0024 - acc: 1.0000 - binary_crossentropy: 0.0024 - val_loss: 1.0006 - val_acc: 0.8475 - val_binary_crossentropy: 1.0006\n"
     ]
    },
    {
     "name": "stdout",
     "output_type": "stream",
     "text": [
      "Epoch 6/20\n"
     ]
    },
    {
     "name": "stdout",
     "output_type": "stream",
     "text": [
      " - 4s - loss: 0.0021 - acc: 1.0000 - binary_crossentropy: 0.0021 - val_loss: 1.0259 - val_acc: 0.8468 - val_binary_crossentropy: 1.0259\n"
     ]
    },
    {
     "name": "stdout",
     "output_type": "stream",
     "text": [
      "Epoch 7/20\n"
     ]
    },
    {
     "name": "stdout",
     "output_type": "stream",
     "text": [
      " - 4s - loss: 0.0018 - acc: 1.0000 - binary_crossentropy: 0.0018 - val_loss: 1.0393 - val_acc: 0.8470 - val_binary_crossentropy: 1.0393\n"
     ]
    },
    {
     "name": "stdout",
     "output_type": "stream",
     "text": [
      "Epoch 8/20\n"
     ]
    },
    {
     "name": "stdout",
     "output_type": "stream",
     "text": [
      " - 4s - loss: 0.0016 - acc: 1.0000 - binary_crossentropy: 0.0016 - val_loss: 1.0557 - val_acc: 0.8465 - val_binary_crossentropy: 1.0557\n"
     ]
    },
    {
     "name": "stdout",
     "output_type": "stream",
     "text": [
      "Epoch 9/20\n"
     ]
    },
    {
     "name": "stdout",
     "output_type": "stream",
     "text": [
      " - 4s - loss: 0.0015 - acc: 1.0000 - binary_crossentropy: 0.0015 - val_loss: 1.0702 - val_acc: 0.8468 - val_binary_crossentropy: 1.0702\n"
     ]
    },
    {
     "name": "stdout",
     "output_type": "stream",
     "text": [
      "Epoch 10/20\n"
     ]
    },
    {
     "name": "stdout",
     "output_type": "stream",
     "text": [
      " - 4s - loss: 0.0013 - acc: 1.0000 - binary_crossentropy: 0.0013 - val_loss: 1.0849 - val_acc: 0.8467 - val_binary_crossentropy: 1.0849\n"
     ]
    },
    {
     "name": "stdout",
     "output_type": "stream",
     "text": [
      "Epoch 11/20\n"
     ]
    },
    {
     "name": "stdout",
     "output_type": "stream",
     "text": [
      " - 4s - loss: 0.0012 - acc: 1.0000 - binary_crossentropy: 0.0012 - val_loss: 1.0982 - val_acc: 0.8464 - val_binary_crossentropy: 1.0982\n"
     ]
    },
    {
     "name": "stdout",
     "output_type": "stream",
     "text": [
      "Epoch 12/20\n"
     ]
    },
    {
     "name": "stdout",
     "output_type": "stream",
     "text": [
      " - 4s - loss: 0.0011 - acc: 1.0000 - binary_crossentropy: 0.0011 - val_loss: 1.1111 - val_acc: 0.8464 - val_binary_crossentropy: 1.1111\n"
     ]
    },
    {
     "name": "stdout",
     "output_type": "stream",
     "text": [
      "Epoch 13/20\n"
     ]
    },
    {
     "name": "stdout",
     "output_type": "stream",
     "text": [
      " - 4s - loss: 9.9558e-04 - acc: 1.0000 - binary_crossentropy: 9.9558e-04 - val_loss: 1.1241 - val_acc: 0.8463 - val_binary_crossentropy: 1.1241\n"
     ]
    },
    {
     "name": "stdout",
     "output_type": "stream",
     "text": [
      "Epoch 14/20\n"
     ]
    },
    {
     "name": "stdout",
     "output_type": "stream",
     "text": [
      " - 4s - loss: 9.1701e-04 - acc: 1.0000 - binary_crossentropy: 9.1701e-04 - val_loss: 1.1341 - val_acc: 0.8464 - val_binary_crossentropy: 1.1341\n"
     ]
    },
    {
     "name": "stdout",
     "output_type": "stream",
     "text": [
      "Epoch 15/20\n"
     ]
    },
    {
     "name": "stdout",
     "output_type": "stream",
     "text": [
      " - 4s - loss: 8.4289e-04 - acc: 1.0000 - binary_crossentropy: 8.4289e-04 - val_loss: 1.1456 - val_acc: 0.8464 - val_binary_crossentropy: 1.1456\n"
     ]
    },
    {
     "name": "stdout",
     "output_type": "stream",
     "text": [
      "Epoch 16/20\n"
     ]
    },
    {
     "name": "stdout",
     "output_type": "stream",
     "text": [
      " - 4s - loss: 7.7806e-04 - acc: 1.0000 - binary_crossentropy: 7.7806e-04 - val_loss: 1.1561 - val_acc: 0.8461 - val_binary_crossentropy: 1.1561\n"
     ]
    },
    {
     "name": "stdout",
     "output_type": "stream",
     "text": [
      "Epoch 17/20\n"
     ]
    },
    {
     "name": "stdout",
     "output_type": "stream",
     "text": [
      " - 4s - loss: 7.2277e-04 - acc: 1.0000 - binary_crossentropy: 7.2277e-04 - val_loss: 1.1665 - val_acc: 0.8462 - val_binary_crossentropy: 1.1665\n"
     ]
    },
    {
     "name": "stdout",
     "output_type": "stream",
     "text": [
      "Epoch 18/20\n"
     ]
    },
    {
     "name": "stdout",
     "output_type": "stream",
     "text": [
      " - 4s - loss: 6.6987e-04 - acc: 1.0000 - binary_crossentropy: 6.6987e-04 - val_loss: 1.1781 - val_acc: 0.8458 - val_binary_crossentropy: 1.1781\n"
     ]
    },
    {
     "name": "stdout",
     "output_type": "stream",
     "text": [
      "Epoch 19/20\n"
     ]
    },
    {
     "name": "stdout",
     "output_type": "stream",
     "text": [
      " - 4s - loss: 6.2219e-04 - acc: 1.0000 - binary_crossentropy: 6.2219e-04 - val_loss: 1.1848 - val_acc: 0.8460 - val_binary_crossentropy: 1.1848\n"
     ]
    },
    {
     "name": "stdout",
     "output_type": "stream",
     "text": [
      "Epoch 20/20\n"
     ]
    },
    {
     "name": "stdout",
     "output_type": "stream",
     "text": [
      " - 4s - loss: 5.8047e-04 - acc: 1.0000 - binary_crossentropy: 5.8047e-04 - val_loss: 1.1965 - val_acc: 0.8457 - val_binary_crossentropy: 1.1965\n"
     ]
    }
   ],
   "source": [
    "small_history = smaller_model.fit(train_data, train_lables, epochs=20, batch_size=512, validation_data=(test_data, test_labels),\n",
    "                  verbose=2)"
   ]
  },
  {
   "cell_type": "code",
   "execution_count": 13,
   "metadata": {},
   "outputs": [
    {
     "name": "stdout",
     "output_type": "stream",
     "text": [
      "_________________________________________________________________\nLayer (type)                 Output Shape              Param #   \n=================================================================\ndense_5 (Dense)              (None, 512)               5120512   \n_________________________________________________________________\ndense_6 (Dense)              (None, 512)               262656    \n_________________________________________________________________\ndense_7 (Dense)              (None, 1)                 513       \n=================================================================\nTotal params: 5,383,681\nTrainable params: 5,383,681\nNon-trainable params: 0\n_________________________________________________________________\n"
     ]
    }
   ],
   "source": [
    "bigger_model = keras.models.Sequential([\n",
    "    keras.layers.Dense(512, activation=tf.nn.relu, input_shape=(Num_words,)),\n",
    "    keras.layers.Dense(512, activation=tf.nn.relu),\n",
    "    keras.layers.Dense(1, activation=tf.nn.sigmoid)\n",
    "])\n",
    "\n",
    "bigger_model.compile(optimizer='adam', loss='binary_crossentropy', metrics=['accuracy', 'binary_crossentropy'])\n",
    "bigger_model.summary()"
   ]
  },
  {
   "cell_type": "code",
   "execution_count": null,
   "metadata": {},
   "outputs": [],
   "source": [
    ""
   ]
  },
  {
   "cell_type": "code",
   "execution_count": 15,
   "metadata": {},
   "outputs": [
    {
     "name": "stdout",
     "output_type": "stream",
     "text": [
      "Train on 25000 samples, validate on 25000 samples\nEpoch 1/20\n"
     ]
    },
    {
     "name": "stdout",
     "output_type": "stream",
     "text": [
      " - 12s - loss: 0.3561 - acc: 0.8406 - binary_crossentropy: 0.3561 - val_loss: 0.2842 - val_acc: 0.8862 - val_binary_crossentropy: 0.2842\n"
     ]
    },
    {
     "name": "stdout",
     "output_type": "stream",
     "text": [
      "Epoch 2/20\n"
     ]
    },
    {
     "name": "stdout",
     "output_type": "stream",
     "text": [
      " - 11s - loss: 0.1392 - acc: 0.9498 - binary_crossentropy: 0.1392 - val_loss: 0.3197 - val_acc: 0.8742 - val_binary_crossentropy: 0.3197\n"
     ]
    },
    {
     "name": "stdout",
     "output_type": "stream",
     "text": [
      "Epoch 3/20\n"
     ]
    },
    {
     "name": "stdout",
     "output_type": "stream",
     "text": [
      " - 11s - loss: 0.0420 - acc: 0.9880 - binary_crossentropy: 0.0420 - val_loss: 0.4332 - val_acc: 0.8699 - val_binary_crossentropy: 0.4332\n"
     ]
    },
    {
     "name": "stdout",
     "output_type": "stream",
     "text": [
      "Epoch 4/20\n"
     ]
    },
    {
     "name": "stdout",
     "output_type": "stream",
     "text": [
      " - 11s - loss: 0.0059 - acc: 0.9989 - binary_crossentropy: 0.0059 - val_loss: 0.5995 - val_acc: 0.8672 - val_binary_crossentropy: 0.5995\n"
     ]
    },
    {
     "name": "stdout",
     "output_type": "stream",
     "text": [
      "Epoch 5/20\n"
     ]
    },
    {
     "name": "stdout",
     "output_type": "stream",
     "text": [
      " - 11s - loss: 0.0014 - acc: 1.0000 - binary_crossentropy: 0.0014 - val_loss: 0.6764 - val_acc: 0.8701 - val_binary_crossentropy: 0.6764\n"
     ]
    },
    {
     "name": "stdout",
     "output_type": "stream",
     "text": [
      "Epoch 6/20\n"
     ]
    },
    {
     "name": "stdout",
     "output_type": "stream",
     "text": [
      " - 11s - loss: 2.1771e-04 - acc: 1.0000 - binary_crossentropy: 2.1771e-04 - val_loss: 0.7209 - val_acc: 0.8705 - val_binary_crossentropy: 0.7209\n"
     ]
    },
    {
     "name": "stdout",
     "output_type": "stream",
     "text": [
      "Epoch 7/20\n"
     ]
    },
    {
     "name": "stdout",
     "output_type": "stream",
     "text": [
      " - 11s - loss: 1.2458e-04 - acc: 1.0000 - binary_crossentropy: 1.2458e-04 - val_loss: 0.7486 - val_acc: 0.8705 - val_binary_crossentropy: 0.7486\n"
     ]
    },
    {
     "name": "stdout",
     "output_type": "stream",
     "text": [
      "Epoch 8/20\n"
     ]
    },
    {
     "name": "stdout",
     "output_type": "stream",
     "text": [
      " - 11s - loss: 8.6910e-05 - acc: 1.0000 - binary_crossentropy: 8.6910e-05 - val_loss: 0.7708 - val_acc: 0.8701 - val_binary_crossentropy: 0.7708\n"
     ]
    },
    {
     "name": "stdout",
     "output_type": "stream",
     "text": [
      "Epoch 9/20\n"
     ]
    },
    {
     "name": "stdout",
     "output_type": "stream",
     "text": [
      " - 11s - loss: 6.4882e-05 - acc: 1.0000 - binary_crossentropy: 6.4882e-05 - val_loss: 0.7901 - val_acc: 0.8704 - val_binary_crossentropy: 0.7901\n"
     ]
    },
    {
     "name": "stdout",
     "output_type": "stream",
     "text": [
      "Epoch 10/20\n"
     ]
    },
    {
     "name": "stdout",
     "output_type": "stream",
     "text": [
      " - 11s - loss: 5.0341e-05 - acc: 1.0000 - binary_crossentropy: 5.0341e-05 - val_loss: 0.8060 - val_acc: 0.8704 - val_binary_crossentropy: 0.8060\n"
     ]
    },
    {
     "name": "stdout",
     "output_type": "stream",
     "text": [
      "Epoch 11/20\n"
     ]
    },
    {
     "name": "stdout",
     "output_type": "stream",
     "text": [
      " - 11s - loss: 4.0229e-05 - acc: 1.0000 - binary_crossentropy: 4.0229e-05 - val_loss: 0.8200 - val_acc: 0.8703 - val_binary_crossentropy: 0.8200\n"
     ]
    },
    {
     "name": "stdout",
     "output_type": "stream",
     "text": [
      "Epoch 12/20\n"
     ]
    },
    {
     "name": "stdout",
     "output_type": "stream",
     "text": [
      " - 11s - loss: 3.2725e-05 - acc: 1.0000 - binary_crossentropy: 3.2725e-05 - val_loss: 0.8331 - val_acc: 0.8703 - val_binary_crossentropy: 0.8331\n"
     ]
    },
    {
     "name": "stdout",
     "output_type": "stream",
     "text": [
      "Epoch 13/20\n"
     ]
    },
    {
     "name": "stdout",
     "output_type": "stream",
     "text": [
      " - 11s - loss: 2.7142e-05 - acc: 1.0000 - binary_crossentropy: 2.7142e-05 - val_loss: 0.8447 - val_acc: 0.8703 - val_binary_crossentropy: 0.8447\n"
     ]
    },
    {
     "name": "stdout",
     "output_type": "stream",
     "text": [
      "Epoch 14/20\n"
     ]
    },
    {
     "name": "stdout",
     "output_type": "stream",
     "text": [
      " - 11s - loss: 2.2794e-05 - acc: 1.0000 - binary_crossentropy: 2.2794e-05 - val_loss: 0.8554 - val_acc: 0.8703 - val_binary_crossentropy: 0.8554\n"
     ]
    },
    {
     "name": "stdout",
     "output_type": "stream",
     "text": [
      "Epoch 15/20\n"
     ]
    },
    {
     "name": "stdout",
     "output_type": "stream",
     "text": [
      " - 11s - loss: 1.9377e-05 - acc: 1.0000 - binary_crossentropy: 1.9377e-05 - val_loss: 0.8661 - val_acc: 0.8706 - val_binary_crossentropy: 0.8661\n"
     ]
    },
    {
     "name": "stdout",
     "output_type": "stream",
     "text": [
      "Epoch 16/20\n"
     ]
    },
    {
     "name": "stdout",
     "output_type": "stream",
     "text": [
      " - 11s - loss: 1.6624e-05 - acc: 1.0000 - binary_crossentropy: 1.6624e-05 - val_loss: 0.8747 - val_acc: 0.8704 - val_binary_crossentropy: 0.8747\n"
     ]
    },
    {
     "name": "stdout",
     "output_type": "stream",
     "text": [
      "Epoch 17/20\n"
     ]
    },
    {
     "name": "stdout",
     "output_type": "stream",
     "text": [
      " - 11s - loss: 1.4393e-05 - acc: 1.0000 - binary_crossentropy: 1.4393e-05 - val_loss: 0.8834 - val_acc: 0.8705 - val_binary_crossentropy: 0.8834\n"
     ]
    },
    {
     "name": "stdout",
     "output_type": "stream",
     "text": [
      "Epoch 18/20\n"
     ]
    },
    {
     "name": "stdout",
     "output_type": "stream",
     "text": [
      " - 11s - loss: 1.2561e-05 - acc: 1.0000 - binary_crossentropy: 1.2561e-05 - val_loss: 0.8914 - val_acc: 0.8703 - val_binary_crossentropy: 0.8914\n"
     ]
    },
    {
     "name": "stdout",
     "output_type": "stream",
     "text": [
      "Epoch 19/20\n"
     ]
    },
    {
     "name": "stdout",
     "output_type": "stream",
     "text": [
      " - 11s - loss: 1.1036e-05 - acc: 1.0000 - binary_crossentropy: 1.1036e-05 - val_loss: 0.8994 - val_acc: 0.8705 - val_binary_crossentropy: 0.8994\n"
     ]
    },
    {
     "name": "stdout",
     "output_type": "stream",
     "text": [
      "Epoch 20/20\n"
     ]
    },
    {
     "name": "stdout",
     "output_type": "stream",
     "text": [
      " - 11s - loss: 9.7714e-06 - acc: 1.0000 - binary_crossentropy: 9.7714e-06 - val_loss: 0.9064 - val_acc: 0.8706 - val_binary_crossentropy: 0.9064\n"
     ]
    }
   ],
   "source": [
    "bigger_history = bigger_model.fit(train_data, train_lables, epochs=20, batch_size=512,\n",
    "                                  validation_data=(test_data, test_labels), verbose=2)"
   ]
  },
  {
   "cell_type": "code",
   "execution_count": 55,
   "metadata": {},
   "outputs": [
    {
     "data": {
      "image/png": "[encoded data removed]",
      "text/plain": [
       "<matplotlib.figure.Figure at 0x2f16d320>"
      ]
     },
     "metadata": {},
     "output_type": "display_data"
    },
    {
     "data": {
      "image/png": "[encoded data removed]",
      "text/plain": [
       "<matplotlib.figure.Figure at 0x1321d940>"
      ]
     },
     "metadata": {},
     "output_type": "display_data"
    }
   ],
   "source": [
    "# plot training and validation loss\n",
    "def plot_history(histories, key='binary_crossentropy'):\n",
    "    plt.figure(figsize=(16, 10))\n",
    "\n",
    "    for name, history in histories:\n",
    "        val = plt.plot(history.epoch, history.history['val_' + key],\n",
    "                       '--', label=name.title() + ' Val')\n",
    "        plt.plot(history.epoch, history.history[key], color=val[0].get_color(),\n",
    "                 label=name.title() + ' Train')\n",
    "\n",
    "    plt.xlabel('Epochs')\n",
    "    plt.ylabel(key.replace('_', ' ').title())\n",
    "    plt.legend()\n",
    "\n",
    "    plt.xlim([0, max(history.epoch)])\n",
    "    plt.show()\n",
    "\n",
    "plot_history([('baseline', baseline_history),\n",
    "              ('smaller', small_history),\n",
    "              ('bigger', bigger_history)])"
   ]
  },
  {
   "cell_type": "code",
   "execution_count": 57,
   "metadata": {},
   "outputs": [
    {
     "name": "stdout",
     "output_type": "stream",
     "text": [
      "Train on 25000 samples, validate on 25000 samples\nEpoch 1/20\n"
     ]
    },
    {
     "name": "stdout",
     "output_type": "stream",
     "text": [
      " - 5s - loss: 0.6867 - acc: 0.7107 - binary_crossentropy: 0.6429 - val_loss: 0.4543 - val_acc: 0.8546 - val_binary_crossentropy: 0.4092\n"
     ]
    },
    {
     "name": "stdout",
     "output_type": "stream",
     "text": [
      "Epoch 2/20\n"
     ]
    },
    {
     "name": "stdout",
     "output_type": "stream",
     "text": [
      " - 4s - loss: 0.3658 - acc: 0.8946 - binary_crossentropy: 0.3187 - val_loss: 0.4290 - val_acc: 0.8782 - val_binary_crossentropy: 0.3803\n"
     ]
    },
    {
     "name": "stdout",
     "output_type": "stream",
     "text": [
      "Epoch 3/20\n"
     ]
    },
    {
     "name": "stdout",
     "output_type": "stream",
     "text": [
      " - 4s - loss: 0.2870 - acc: 0.9222 - binary_crossentropy: 0.2371 - val_loss: 0.4363 - val_acc: 0.8790 - val_binary_crossentropy: 0.3855\n"
     ]
    },
    {
     "name": "stdout",
     "output_type": "stream",
     "text": [
      "Epoch 4/20\n"
     ]
    },
    {
     "name": "stdout",
     "output_type": "stream",
     "text": [
      " - 4s - loss: 0.2541 - acc: 0.9368 - binary_crossentropy: 0.2024 - val_loss: 0.5149 - val_acc: 0.8780 - val_binary_crossentropy: 0.4624\n"
     ]
    },
    {
     "name": "stdout",
     "output_type": "stream",
     "text": [
      "Epoch 5/20\n"
     ]
    },
    {
     "name": "stdout",
     "output_type": "stream",
     "text": [
      " - 4s - loss: 0.2211 - acc: 0.9482 - binary_crossentropy: 0.1678 - val_loss: 0.6089 - val_acc: 0.8765 - val_binary_crossentropy: 0.5549\n"
     ]
    },
    {
     "name": "stdout",
     "output_type": "stream",
     "text": [
      "Epoch 6/20\n"
     ]
    },
    {
     "name": "stdout",
     "output_type": "stream",
     "text": [
      " - 4s - loss: 0.1965 - acc: 0.9582 - binary_crossentropy: 0.1421 - val_loss: 0.7050 - val_acc: 0.8746 - val_binary_crossentropy: 0.6502\n"
     ]
    },
    {
     "name": "stdout",
     "output_type": "stream",
     "text": [
      "Epoch 7/20\n"
     ]
    },
    {
     "name": "stdout",
     "output_type": "stream",
     "text": [
      " - 4s - loss: 0.1777 - acc: 0.9682 - binary_crossentropy: 0.1226 - val_loss: 0.7723 - val_acc: 0.8752 - val_binary_crossentropy: 0.7172\n"
     ]
    },
    {
     "name": "stdout",
     "output_type": "stream",
     "text": [
      "Epoch 8/20\n"
     ]
    },
    {
     "name": "stdout",
     "output_type": "stream",
     "text": [
      " - 4s - loss: 0.1630 - acc: 0.9750 - binary_crossentropy: 0.1079 - val_loss: 0.8439 - val_acc: 0.8737 - val_binary_crossentropy: 0.7888\n"
     ]
    },
    {
     "name": "stdout",
     "output_type": "stream",
     "text": [
      "Epoch 9/20\n"
     ]
    },
    {
     "name": "stdout",
     "output_type": "stream",
     "text": [
      " - 4s - loss: 0.1494 - acc: 0.9818 - binary_crossentropy: 0.0946 - val_loss: 0.9092 - val_acc: 0.8721 - val_binary_crossentropy: 0.8546\n"
     ]
    },
    {
     "name": "stdout",
     "output_type": "stream",
     "text": [
      "Epoch 10/20\n"
     ]
    },
    {
     "name": "stdout",
     "output_type": "stream",
     "text": [
      " - 4s - loss: 0.1398 - acc: 0.9859 - binary_crossentropy: 0.0854 - val_loss: 0.9698 - val_acc: 0.8693 - val_binary_crossentropy: 0.9157\n"
     ]
    },
    {
     "name": "stdout",
     "output_type": "stream",
     "text": [
      "Epoch 11/20\n"
     ]
    },
    {
     "name": "stdout",
     "output_type": "stream",
     "text": [
      " - 4s - loss: 0.1305 - acc: 0.9897 - binary_crossentropy: 0.0769 - val_loss: 1.0250 - val_acc: 0.8687 - val_binary_crossentropy: 0.9718\n"
     ]
    },
    {
     "name": "stdout",
     "output_type": "stream",
     "text": [
      "Epoch 12/20\n"
     ]
    },
    {
     "name": "stdout",
     "output_type": "stream",
     "text": [
      " - 4s - loss: 0.1253 - acc: 0.9916 - binary_crossentropy: 0.0726 - val_loss: 1.0817 - val_acc: 0.8661 - val_binary_crossentropy: 1.0291\n"
     ]
    },
    {
     "name": "stdout",
     "output_type": "stream",
     "text": [
      "Epoch 13/20\n"
     ]
    },
    {
     "name": "stdout",
     "output_type": "stream",
     "text": [
      " - 4s - loss: 0.1223 - acc: 0.9924 - binary_crossentropy: 0.0699 - val_loss: 1.1386 - val_acc: 0.8663 - val_binary_crossentropy: 1.0863\n"
     ]
    },
    {
     "name": "stdout",
     "output_type": "stream",
     "text": [
      "Epoch 14/20\n"
     ]
    },
    {
     "name": "stdout",
     "output_type": "stream",
     "text": [
      " - 4s - loss: 0.1161 - acc: 0.9943 - binary_crossentropy: 0.0644 - val_loss: 1.1567 - val_acc: 0.8656 - val_binary_crossentropy: 1.1056\n"
     ]
    },
    {
     "name": "stdout",
     "output_type": "stream",
     "text": [
      "Epoch 15/20\n"
     ]
    },
    {
     "name": "stdout",
     "output_type": "stream",
     "text": [
      " - 4s - loss: 0.1116 - acc: 0.9951 - binary_crossentropy: 0.0614 - val_loss: 1.1961 - val_acc: 0.8632 - val_binary_crossentropy: 1.1465\n"
     ]
    },
    {
     "name": "stdout",
     "output_type": "stream",
     "text": [
      "Epoch 16/20\n"
     ]
    },
    {
     "name": "stdout",
     "output_type": "stream",
     "text": [
      " - 4s - loss: 0.1211 - acc: 0.9913 - binary_crossentropy: 0.0712 - val_loss: 1.2544 - val_acc: 0.8575 - val_binary_crossentropy: 1.2023\n"
     ]
    },
    {
     "name": "stdout",
     "output_type": "stream",
     "text": [
      "Epoch 17/20\n"
     ]
    },
    {
     "name": "stdout",
     "output_type": "stream",
     "text": [
      " - 4s - loss: 0.1633 - acc: 0.9826 - binary_crossentropy: 0.1083 - val_loss: 1.3661 - val_acc: 0.8533 - val_binary_crossentropy: 1.3075\n"
     ]
    },
    {
     "name": "stdout",
     "output_type": "stream",
     "text": [
      "Epoch 18/20\n"
     ]
    },
    {
     "name": "stdout",
     "output_type": "stream",
     "text": [
      " - 4s - loss: 0.5310 - acc: 0.9313 - binary_crossentropy: 0.4630 - val_loss: 1.4945 - val_acc: 0.8391 - val_binary_crossentropy: 1.4113\n"
     ]
    },
    {
     "name": "stdout",
     "output_type": "stream",
     "text": [
      "Epoch 19/20\n"
     ]
    },
    {
     "name": "stdout",
     "output_type": "stream",
     "text": [
      " - 4s - loss: 0.4787 - acc: 0.9382 - binary_crossentropy: 0.3888 - val_loss: 1.2898 - val_acc: 0.8482 - val_binary_crossentropy: 1.1957\n"
     ]
    },
    {
     "name": "stdout",
     "output_type": "stream",
     "text": [
      "Epoch 20/20\n"
     ]
    },
    {
     "name": "stdout",
     "output_type": "stream",
     "text": [
      " - 4s - loss: 0.3535 - acc: 0.9638 - binary_crossentropy: 0.2584 - val_loss: 1.2920 - val_acc: 0.8492 - val_binary_crossentropy: 1.1969\n"
     ]
    }
   ],
   "source": [
    "l2_model = keras.models.Sequential([\n",
    "    keras.layers.Dense(16, kernel_regularizer=keras.regularizers.l2(0.001), activation=tf.nn.relu,\n",
    "                       input_shape=(Num_words,)),\n",
    "    keras.layers.Dense(16, kernel_regularizer=keras.regularizers.l2(0.001), activation=tf.nn.relu),\n",
    "    keras.layers.Dense(1, activation=tf.nn.relu)\n",
    "])\n",
    "\n",
    "l2_model.compile(optimizer='adam', loss='binary_crossentropy', metrics=['accuracy', 'binary_crossentropy'])\n",
    "\n",
    "l2_model_history = l2_model.fit(train_data, train_lables, epochs=20, batch_size=512,\n",
    "                                validation_data=(test_data, test_labels), verbose=2)"
   ]
  },
  {
   "cell_type": "code",
   "execution_count": 58,
   "metadata": {},
   "outputs": [
    {
     "data": {
      "image/png": "[encoded data removed]",
      "text/plain": [
       "<matplotlib.figure.Figure at 0x14e33e48>"
      ]
     },
     "metadata": {},
     "output_type": "display_data"
    }
   ],
   "source": [
    "plot_history([('baseline', baseline_history), ('l2', l2_model_history)])"
   ]
  },
  {
   "cell_type": "code",
   "execution_count": 61,
   "metadata": {
    "collapsed": false
   },
   "outputs": [
    {
     "name": "stdout",
     "output_type": "stream",
     "text": [
      "Train on 25000 samples, validate on 25000 samples\nEpoch 1/20\n"
     ]
    },
    {
     "name": "stdout",
     "output_type": "stream",
     "text": [
      " - 5s - loss: 0.6210 - acc: 0.6482 - binary_crossentropy: 0.6210 - val_loss: 0.4773 - val_acc: 0.8559 - val_binary_crossentropy: 0.4773\n"
     ]
    },
    {
     "name": "stdout",
     "output_type": "stream",
     "text": [
      "Epoch 2/20\n"
     ]
    },
    {
     "name": "stdout",
     "output_type": "stream",
     "text": [
      " - 4s - loss: 0.4425 - acc: 0.8168 - binary_crossentropy: 0.4425 - val_loss: 0.3308 - val_acc: 0.8814 - val_binary_crossentropy: 0.3308\n"
     ]
    },
    {
     "name": "stdout",
     "output_type": "stream",
     "text": [
      "Epoch 3/20\n"
     ]
    },
    {
     "name": "stdout",
     "output_type": "stream",
     "text": [
      " - 4s - loss: 0.3421 - acc: 0.8734 - binary_crossentropy: 0.3421 - val_loss: 0.2854 - val_acc: 0.8879 - val_binary_crossentropy: 0.2854\n"
     ]
    },
    {
     "name": "stdout",
     "output_type": "stream",
     "text": [
      "Epoch 4/20\n"
     ]
    },
    {
     "name": "stdout",
     "output_type": "stream",
     "text": [
      " - 4s - loss: 0.2828 - acc: 0.8998 - binary_crossentropy: 0.2828 - val_loss: 0.2747 - val_acc: 0.8883 - val_binary_crossentropy: 0.2747\n"
     ]
    },
    {
     "name": "stdout",
     "output_type": "stream",
     "text": [
      "Epoch 5/20\n"
     ]
    },
    {
     "name": "stdout",
     "output_type": "stream",
     "text": [
      " - 4s - loss: 0.2409 - acc: 0.9165 - binary_crossentropy: 0.2409 - val_loss: 0.2779 - val_acc: 0.8871 - val_binary_crossentropy: 0.2779\n"
     ]
    },
    {
     "name": "stdout",
     "output_type": "stream",
     "text": [
      "Epoch 6/20\n"
     ]
    },
    {
     "name": "stdout",
     "output_type": "stream",
     "text": [
      " - 4s - loss: 0.2120 - acc: 0.9284 - binary_crossentropy: 0.2120 - val_loss: 0.2932 - val_acc: 0.8864 - val_binary_crossentropy: 0.2932\n"
     ]
    },
    {
     "name": "stdout",
     "output_type": "stream",
     "text": [
      "Epoch 7/20\n"
     ]
    },
    {
     "name": "stdout",
     "output_type": "stream",
     "text": [
      " - 4s - loss: 0.1848 - acc: 0.9382 - binary_crossentropy: 0.1848 - val_loss: 0.3066 - val_acc: 0.8841 - val_binary_crossentropy: 0.3066\n"
     ]
    },
    {
     "name": "stdout",
     "output_type": "stream",
     "text": [
      "Epoch 8/20\n"
     ]
    },
    {
     "name": "stdout",
     "output_type": "stream",
     "text": [
      " - 4s - loss: 0.1619 - acc: 0.9455 - binary_crossentropy: 0.1619 - val_loss: 0.3220 - val_acc: 0.8834 - val_binary_crossentropy: 0.3220\n"
     ]
    },
    {
     "name": "stdout",
     "output_type": "stream",
     "text": [
      "Epoch 9/20\n"
     ]
    },
    {
     "name": "stdout",
     "output_type": "stream",
     "text": [
      " - 4s - loss: 0.1465 - acc: 0.9497 - binary_crossentropy: 0.1465 - val_loss: 0.3514 - val_acc: 0.8810 - val_binary_crossentropy: 0.3514\n"
     ]
    },
    {
     "name": "stdout",
     "output_type": "stream",
     "text": [
      "Epoch 10/20\n"
     ]
    },
    {
     "name": "stdout",
     "output_type": "stream",
     "text": [
      " - 4s - loss: 0.1317 - acc: 0.9557 - binary_crossentropy: 0.1317 - val_loss: 0.3674 - val_acc: 0.8800 - val_binary_crossentropy: 0.3674\n"
     ]
    },
    {
     "name": "stdout",
     "output_type": "stream",
     "text": [
      "Epoch 11/20\n"
     ]
    },
    {
     "name": "stdout",
     "output_type": "stream",
     "text": [
      " - 4s - loss: 0.1212 - acc: 0.9575 - binary_crossentropy: 0.1212 - val_loss: 0.4023 - val_acc: 0.8796 - val_binary_crossentropy: 0.4023\n"
     ]
    },
    {
     "name": "stdout",
     "output_type": "stream",
     "text": [
      "Epoch 12/20\n"
     ]
    },
    {
     "name": "stdout",
     "output_type": "stream",
     "text": [
      " - 4s - loss: 0.1099 - acc: 0.9618 - binary_crossentropy: 0.1099 - val_loss: 0.3973 - val_acc: 0.8774 - val_binary_crossentropy: 0.3973\n"
     ]
    },
    {
     "name": "stdout",
     "output_type": "stream",
     "text": [
      "Epoch 13/20\n"
     ]
    },
    {
     "name": "stdout",
     "output_type": "stream",
     "text": [
      " - 4s - loss: 0.1020 - acc: 0.9642 - binary_crossentropy: 0.1020 - val_loss: 0.4310 - val_acc: 0.8772 - val_binary_crossentropy: 0.4310\n"
     ]
    },
    {
     "name": "stdout",
     "output_type": "stream",
     "text": [
      "Epoch 14/20\n"
     ]
    },
    {
     "name": "stdout",
     "output_type": "stream",
     "text": [
      " - 4s - loss: 0.0939 - acc: 0.9663 - binary_crossentropy: 0.0939 - val_loss: 0.4475 - val_acc: 0.8775 - val_binary_crossentropy: 0.4475\n"
     ]
    },
    {
     "name": "stdout",
     "output_type": "stream",
     "text": [
      "Epoch 15/20\n"
     ]
    },
    {
     "name": "stdout",
     "output_type": "stream",
     "text": [
      " - 4s - loss: 0.0884 - acc: 0.9682 - binary_crossentropy: 0.0884 - val_loss: 0.4705 - val_acc: 0.8758 - val_binary_crossentropy: 0.4705\n"
     ]
    },
    {
     "name": "stdout",
     "output_type": "stream",
     "text": [
      "Epoch 16/20\n"
     ]
    },
    {
     "name": "stdout",
     "output_type": "stream",
     "text": [
      " - 4s - loss: 0.0829 - acc: 0.9684 - binary_crossentropy: 0.0829 - val_loss: 0.4976 - val_acc: 0.8760 - val_binary_crossentropy: 0.4976\n"
     ]
    },
    {
     "name": "stdout",
     "output_type": "stream",
     "text": [
      "Epoch 17/20\n"
     ]
    },
    {
     "name": "stdout",
     "output_type": "stream",
     "text": [
      " - 4s - loss: 0.0782 - acc: 0.9702 - binary_crossentropy: 0.0782 - val_loss: 0.5408 - val_acc: 0.8735 - val_binary_crossentropy: 0.5408\n"
     ]
    },
    {
     "name": "stdout",
     "output_type": "stream",
     "text": [
      "Epoch 18/20\n"
     ]
    },
    {
     "name": "stdout",
     "output_type": "stream",
     "text": [
      " - 4s - loss: 0.0766 - acc: 0.9712 - binary_crossentropy: 0.0766 - val_loss: 0.5227 - val_acc: 0.8729 - val_binary_crossentropy: 0.5227\n"
     ]
    },
    {
     "name": "stdout",
     "output_type": "stream",
     "text": [
      "Epoch 19/20\n"
     ]
    },
    {
     "name": "stdout",
     "output_type": "stream",
     "text": [
      " - 4s - loss: 0.0706 - acc: 0.9726 - binary_crossentropy: 0.0706 - val_loss: 0.5283 - val_acc: 0.8760 - val_binary_crossentropy: 0.5283\n"
     ]
    },
    {
     "name": "stdout",
     "output_type": "stream",
     "text": [
      "Epoch 20/20\n"
     ]
    },
    {
     "name": "stdout",
     "output_type": "stream",
     "text": [
      " - 4s - loss: 0.0656 - acc: 0.9743 - binary_crossentropy: 0.0656 - val_loss: 0.5777 - val_acc: 0.8758 - val_binary_crossentropy: 0.5777\n"
     ]
    }
   ],
   "source": [
    "dpt_model = keras.models.Sequential([\n",
    "    keras.layers.Dense(16, activation=tf.nn.relu, input_shape=(Num_words,)),\n",
    "    keras.layers.Dropout(0.5),\n",
    "    keras.layers.Dense(16, activation=tf.nn.relu),\n",
    "    keras.layers.Dropout(0.5),\n",
    "    keras.layers.Dense(1, activation=tf.nn.sigmoid)])\n",
    "\n",
    "dpt_model.compile(optimizer='adam', loss='binary_crossentropy', metrics=['accuracy', 'binary_crossentropy'])\n",
    "\n",
    "dpt_model_history = dpt_model.fit(train_data, train_lables, epochs=20, batch_size=512,\n",
    "              validation_data=(test_data, test_labels), verbose=2)"
   ]
  },
  {
   "cell_type": "code",
   "execution_count": 62,
   "metadata": {},
   "outputs": [
    {
     "data": {
      "image/png": "[encoded data removed]",
      "text/plain": [
       "<matplotlib.figure.Figure at 0x16edb630>"
      ]
     },
     "metadata": {},
     "output_type": "display_data"
    }
   ],
   "source": [
    "plot_history([('baseline',baseline_history),('dropout',dpt_model_history)])"
   ]
  },
  {
   "cell_type": "code",
   "execution_count": null,
   "metadata": {},
   "outputs": [],
   "source": [
    ""
   ]
  }
 ],
 "metadata": {
  "kernelspec": {
   "display_name": "Python 2",
   "language": "python",
   "name": "python2"
  },
  "language_info": {
   "codemirror_mode": {
    "name": "ipython",
    "version": 2.0
   },
   "file_extension": ".py",
   "mimetype": "text/x-python",
   "name": "python",
   "nbconvert_exporter": "python",
   "pygments_lexer": "ipython2",
   "version": "2.7.6"
  }
 },
 "nbformat": 4,
 "nbformat_minor": 0
}